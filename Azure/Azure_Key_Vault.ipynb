{
 "cells": [
  {
   "cell_type": "markdown",
   "id": "3a74ecad",
   "metadata": {},
   "source": [
    "### Andministración de claves en Azure\n",
    "#### solución de administración de claves\n",
    "- Administar secretos: Azure Key Vault se puede utilizar para almacenar de forma segura y controlar de manera estricta el acceso a los tokens, contraseñas, certificados, claves de API y otros secretos.\n",
    "- Administración de claves:\n",
    "- Administración de certificados: Azure Key Vault le permite aprovisionar, administrar e implementar fácilmente certificados públicos y privados de la Seguridad de la capa de transporte y de la Capa de sockets seguros (TLS/SSL) para su uso con Azure y sus recursos internos conectados\n",
    "\n",
    "#### La autenticación se realiza a través de Microsoft Entra ID\n",
    "#### Las claves, los secretos y los certificados se conocen colectivamente como \"objetos\".\n"
   ]
  },
  {
   "cell_type": "markdown",
   "id": "744a6298",
   "metadata": {},
   "source": [
    "#### Un identificador de objeto tiene el formato general siguiente (según el tipo de contenedor):\n",
    "\n",
    "- Para almacenes: https://{vault-name}.vault.azure.net/{object-type}/{object-name}/{object-version}\n",
    "\n",
    "- Para grupos de HSM administrados: https://{hsm-name}.managedhsm.azure.net/{object-type}/{object-name}/{object-version}\n",
    "\n",
    "#### Secretos: proporciona un almacenamiento seguro de secretos, como contraseñas y cadenas de conexión de base de datos.\n"
   ]
  },
  {
   "cell_type": "markdown",
   "id": "ace3d697",
   "metadata": {},
   "source": [
    "### Acerca de los secretos de Azure Key Vault\n",
    "key vault proporciona un almacenamiento seguro de secretos genéricos como contraseñas y cadenas de conexión a bases de datos.\n",
    "El servicio Key Vault no proporciona semántica para los secretos. Simplemente acepta los datos, los cifra, los almacena y devuelve un identificador secreto (id). El identificador puede usarse para recuperar el secreto en un momento posterior.\n",
    "Key Vault también admite un campo contentType para secretos.\n",
    "\n",
    "Permisos para las operaciones de administración de secretos\n",
    "\n",
    "- get: Leer un secreto\n",
    "- list: enumeración de los secretos o versiones de un secreto almacenado en un almacén de claves\n",
    "- set: Crear un secreto\n",
    "- delete: Eliminar un secreto\n",
    "- recover: Recuperación de un secreto eliminado\n",
    "- backup: copia de seguridad de un secreto de un almacén de claves\n",
    "- restore: restaurar una copia de seguridad de un secreto a un almacén de claves\n",
    "\n",
    "Permisos para las operaciones con privilegios\n",
    "\n",
    "-purga: purgar (eliminar permanentemente) un secreto eliminado\n",
    "\n",
    "\n",
    "### Desde la perspectiva del desarrollador, las API de Key Vault aceptan y devuelven los valores de secreto como cadenas."
   ]
  },
  {
   "cell_type": "markdown",
   "id": "2766401a",
   "metadata": {},
   "source": [
    "### Acerca de los secretos de Azure Key Vault\n",
    "key vault proporciona un almacenamiento seguro de secretos genéricos como contraseñas y cadenas de conexión a bases de datos.\n",
    "El servicio Key Vault no proporciona semántica para los secretos. Simplemente acepta los datos, los cifra, los almacena y devuelve un identificador secreto (id). El identificador puede usarse para recuperar el secreto en un momento posterior.\n",
    "Key Vault también admite un campo contentType para secretos.\n",
    "\n",
    "Permisos para las operaciones de administración de secretos\n",
    "\n",
    "- get: Leer un secreto\n",
    "- list: enumeración de los secretos o versiones de un secreto almacenado en un almacén de claves\n",
    "- set: Crear un secreto\n",
    "- delete: Eliminar un secreto\n",
    "- recover: Recuperación de un secreto eliminado\n",
    "- backup: copia de seguridad de un secreto de un almacén de claves\n",
    "- restore: restaurar una copia de seguridad de un secreto a un almacén de claves\n",
    "\n",
    "Permisos para las operaciones con privilegios\n",
    "\n",
    "-purga: purgar (eliminar permanentemente) un secreto eliminado\n",
    "\n",
    "\n",
    "### Desde la perspectiva del desarrollador, las API de Key Vault aceptan y devuelven los valores de secreto como cadenas."
   ]
  },
  {
   "cell_type": "markdown",
   "id": "13dcb918",
   "metadata": {},
   "source": [
    "### Cliente de secretos de Azure Key Vault\n",
    "\n",
    "- az login -> inicio de sesisón en azure desde Azure CLI (Power shell)\n",
    "\n",
    "#### instalación de paquetes\n",
    "- pip install azure-identity -> instalar bibliotecas de identidades de Microsoft entra\n",
    "- pip install azure-keyvault-secrets -> biblioteca de secretos de key Vault\n",
    "\n",
    "#### Crear un grupo de recursos \n",
    "- az group create --name myResourceGroup --location eastus\n",
    "\n",
    "#### Crear un almacén de claves\n",
    "- az keyvault create --name <nombre unico del keyvault> --resource-group <nombre del grupo de recursos>\n",
    "(usar el nombre personal o de la empresa con un identificador)\n",
    "\n",
    "#### establecer la variable de entorno\n",
    "El scriot usa el valor asignado a la variable de entorno KEY_VAULT_NAME como el nombre de almancén de claves.\n",
    "export KEY_VAULT_NAME  =<YOUR-UNIQUE-KEYVAULT-NAME>\n",
    "\n",
    "#### Concesión de acceso al almacén de claves\n",
    "Control de acceso basado en roles (RBAC). Asignar un rol a su nombre principal de usuario (UPN) mediante el comando de CLI\n",
    "- az role assignment create --role \"key Vault Secrets Officer\" --assignee \"<upn>\" --scope \"/subscriptions/<subscription-id>/resourceGroups/<resource-group-name>/providers/Microsoft.KeyVault/vaults/<your-unique-keyvault-name>\"\n",
    "\n",
    "##### Reemplace <upn>, <subscription-id>, <resource-group-name> y <your-unique-keyvault-name> por los valores reales. El UPN normalmente tendrá el formato de una dirección de correo electrónico (por ejemplo, username@domain.com).\n",
    "\n",
    "enlace documentación CLI para secretos keyvault: \n",
    "https://learn.microsoft.com/es-es/azure/key-vault/secrets/quick-create-cli\n"
   ]
  }
 ],
 "metadata": {
  "language_info": {
   "name": "python"
  }
 },
 "nbformat": 4,
 "nbformat_minor": 5
}
