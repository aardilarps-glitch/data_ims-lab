{
 "cells": [
  {
   "cell_type": "markdown",
   "id": "8b01b8cc",
   "metadata": {},
   "source": [
    "- Preparar cuenta y CLI (suscripción activa). \n",
    "\n",
    "- Crear Resource Group.\n",
    "\n",
    "- Crear VNet + subredes (y NSG básico). \n",
    "\n",
    "\n",
    "- Crear Key Vault (modelo RBAC recomendado) y ajustar permisos. \n",
    "\n",
    "\n",
    "- Crear grupos en Entra ID y asignar roles (acceso a Key Vault / RG). \n",
    "\n",
    "\n",
    "- Desplegar VM en la VNet, habilitar Managed Identity y dar permiso al identity sobre Key Vault (prueba). \n",
    "\n",
    "- Opcional avanzado: proteger Key Vault con Private Endpoint (Private Link)."
   ]
  },
  {
   "cell_type": "markdown",
   "id": "98e103ad",
   "metadata": {},
   "source": [
    "- az login -> inciar sesión en AZure CLI\n",
    "- az account list --output table ->"
   ]
  },
  {
   "cell_type": "markdown",
   "id": "114d6e7d",
   "metadata": {},
   "source": [
    "### crear un grupo de recursos para hospedar la red virtual:\n",
    "- az group create --name rg-data-lab --location eastus\n",
    "- az group list --output table -> listar los grupos de recursos creados"
   ]
  },
  {
   "cell_type": "markdown",
   "id": "1153136c",
   "metadata": {},
   "source": [
    "#### Crear una VNet (red viertaul) y una subred en el grupo de recursos gr-data-lab:\n",
    "- az network vnet create --resource-group rg-data-lab --name vnet-data-lab --address-prefixes 10.10.0.0/16 --subnet-name subnet-app --subnet-prefixes 10.10.1.0/24 --location eastus\n",
    "\n",
    "#### verificar lista de VNet y subred creadas en el recurso \n",
    "- az network vnet list --resource-group rg-data-lab --output table\n",
    "- az network vnet subnet list --resource-group rg-data-lab --vnet-name vnet-data-lab --output table\n",
    "\n",
    "#### Crear un Network Security Group (NSG)\n",
    "\n",
    "Crear un Network Security Group (NSG) y asociarlo a tu subred te permite controlar el tráfico de red (inbound/outbound), actuando como un firewall a nivel de red dentro de Azure.\n",
    "\n",
    "- az network nsg create --resource-group rg-data-lab --name nsg-app\n",
    "\n",
    "#### listar/ ver detalles de los NSG \n",
    " - az network nsg list --resource-group rg-data-lab --output table\n",
    "\n",
    " - az network nsg show --resource-group rg-data-lab --name nsg-app --output json\n",
    "\n",
    "#### asociar una nsg a un subred\n",
    " az network vnet subnet update --resource-group rg-data-lab --vnet-name vnet-data-lab --name subnet-app --network-security-group nsg-app"
   ]
  },
  {
   "cell_type": "markdown",
   "id": "e9081e64",
   "metadata": {},
   "source": [
    "### Crear Key Vault (modelo RBAC recomendado)\n",
    "¡¡¡el nombre del Key Vault debe ser único a nivel global (solo letras y números, sin mayúsculas)!!! \n",
    "\n",
    "-- se debe registrar el proveedor:\n",
    "- az provider register --namespace Microsoft.KeyVault\n",
    "- az provider show --namespace Microsoft.KeyVault --query \"registrationState\" --output tsv\n",
    "\n",
    "ahora si se pueden crer las key vault:\n",
    "\n",
    "-  az keyvault create --name kv-datalab2025 --resource-group rg-data-lab --location eastus --sku standard\n",
    "\n",
    "#### listar las key vault existentes\n",
    "- az keyvault list --resource-group rg-data-lab --output table\n",
    "- az keyvault show --name kv-datalab2025 --resource-group rg-data-lab -o table\n",
    "\n",
    "#### asigar un rol a un usuario\n",
    "obtener el id en Entra:\n",
    "az ad signed-in-user show --query id -o tsv\n",
    "\n",
    "#### crear la asignacion\n",
    " az role assignment create --assignee da32158b-55e2-429d-80ea-8369b5ed768e --role \"Key Vault Secrets Officer\" --scope $(az keyvault show --name kv-datalab2025 --query id -o tsv)\n",
    "\n",
    "#### Guardar secretos en las key vault \n",
    " az keyvault secret set \\\n",
    "  --vault-name kv-datalab2025 \\\n",
    "  --name \"DbPassword\" \\\n",
    "  --value \"SuperP@ssw0rd123\""
   ]
  },
  {
   "cell_type": "markdown",
   "id": "5ece0268",
   "metadata": {},
   "source": []
  }
 ],
 "metadata": {
  "language_info": {
   "name": "python"
  }
 },
 "nbformat": 4,
 "nbformat_minor": 5
}
