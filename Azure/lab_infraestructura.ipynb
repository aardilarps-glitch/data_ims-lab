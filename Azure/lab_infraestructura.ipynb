{
 "cells": [
  {
   "cell_type": "markdown",
   "id": "8b01b8cc",
   "metadata": {},
   "source": [
    "- Preparar cuenta y CLI (suscripción activa). \n",
    "\n",
    "- Crear Resource Group.\n",
    "\n",
    "- Crear VNet + subredes (y NSG básico). \n",
    "\n",
    "\n",
    "- Crear Key Vault (modelo RBAC recomendado) y ajustar permisos. \n",
    "\n",
    "\n",
    "- Crear grupos en Entra ID y asignar roles (acceso a Key Vault / RG). \n",
    "\n",
    "\n",
    "- Desplegar VM en la VNet, habilitar Managed Identity y dar permiso al identity sobre Key Vault (prueba). \n",
    "\n",
    "- Opcional avanzado: proteger Key Vault con Private Endpoint (Private Link)."
   ]
  },
  {
   "cell_type": "markdown",
   "id": "98e103ad",
   "metadata": {},
   "source": [
    "- az login -> inciar sesión en AZure CLI\n",
    "- az account list --output table ->"
   ]
  },
  {
   "cell_type": "markdown",
   "id": "114d6e7d",
   "metadata": {},
   "source": [
    "### crear un grupo de recursos para hospedar la red virtual:\n",
    "- az group create --name rg-data-lab --location eastus\n",
    "- az group list --output table -> listar los grupos de recursos creados"
   ]
  },
  {
   "cell_type": "markdown",
   "id": "1153136c",
   "metadata": {},
   "source": [
    "#### Crear una VNet (red virtual) y una subred en el grupo de recursos gr-data-lab:\n",
    "- az network vnet create --resource-group rg-data-lab --name vnet-data-lab --address-prefixes 10.10.0.0/16 --subnet-name subnet-app --subnet-prefixes 10.10.1.0/24 --location eastus\n",
    "\n",
    "#### verificar lista de VNet y subred creadas en el recurso \n",
    "- az network vnet list --resource-group rg-data-lab --output table\n",
    "- az network vnet subnet list --resource-group rg-data-lab --vnet-name vnet-data-lab --output table\n",
    "\n",
    "#### Crear un Network Security Group (NSG)\n",
    "\n",
    "Crear un Network Security Group (NSG) y asociarlo a tu subred te permite controlar el tráfico de red (inbound/outbound), actuando como un firewall a nivel de red dentro de Azure.\n",
    "\n",
    "- az network nsg create --resource-group rg-data-lab --name nsg-app\n",
    "\n",
    "#### listar/ ver detalles de los NSG \n",
    " - az network nsg list --resource-group rg-data-lab --output table\n",
    "\n",
    " - az network nsg show --resource-group rg-data-lab --name nsg-app --output json\n",
    "\n",
    " - az network nsg show --resource-group rg-data-lab --name nsg-app --output table\n",
    "\n",
    "#### asociar una nsg a un subred\n",
    " az network vnet subnet update --resource-group rg-data-lab --vnet-name vnet-data-lab --name subnet-app --network-security-group nsg-app"
   ]
  },
  {
   "cell_type": "markdown",
   "id": "e9081e64",
   "metadata": {},
   "source": [
    "### Crear Key Vault (modelo RBAC recomendado)\n",
    "¡¡¡el nombre del Key Vault debe ser único a nivel global (solo letras y números, sin mayúsculas)!!! \n",
    "\n",
    "-- se debe registrar el proveedor:\n",
    "- az provider register --namespace Microsoft.KeyVault\n",
    "- az provider show --namespace Microsoft.KeyVault --query \"registrationState\" --output tsv\n",
    "\n",
    "ahora si se pueden crer las key vault:\n",
    "\n",
    "-  az keyvault create --name kv-datalab2025 --resource-group rg-data-lab --location eastus --sku standard\n",
    "\n",
    "#### listar las key vault existentes\n",
    "- az keyvault list --resource-group rg-data-lab --output table\n",
    "- az keyvault show --name kv-datalab2025 --resource-group rg-data-lab -o table\n",
    "\n",
    "#### asigar un rol a un usuario\n",
    "obtener el id en Entra:\n",
    "az ad signed-in-user show --query id -o tsv\n",
    "\n",
    "#### crear la asignacion\n",
    " az role assignment create --assignee da32158b-55e2-429d-80ea-8369b5ed768e --role \"Key Vault Secrets Officer\" --scope $(az keyvault show --name kv-datalab2025 --query id -o tsv)\n",
    "\n",
    "#### Guardar secretos en las key vault \n",
    " az keyvault secret set \\\n",
    "  --vault-name kv-datalab2025 \\\n",
    "  --name \"DbPassword\" \\\n",
    "  --value \"SuperP@ssw0rd123\""
   ]
  },
  {
   "cell_type": "markdown",
   "id": "5ece0268",
   "metadata": {},
   "source": [
    "Azure RBAC (Role-Based Access Control) es el sistema de control de acceso basado en roles de Azure.\n",
    "Sirve para definir quién puede hacer qué sobre qué recurso dentro de tu suscripción de Azure.\n",
    "\n",
    "Es decir:\n",
    "\n",
    "Quién = un usuario, grupo, aplicación o servicio administrado.\n",
    "\n",
    "Qué puede hacer = acciones (leer, escribir, eliminar, administrar).\n",
    "\n",
    "Sobre qué = un recurso (ej. un Key Vault, un Storage, una VM)."
   ]
  },
  {
   "cell_type": "markdown",
   "id": "3da0ef7e",
   "metadata": {},
   "source": [
    "#### Crear Grupos en Microsoft Entra ID\n",
    "\n",
    "- az ad group create --display-name \"Lab_DataAnalytics\" --mail-nickname \"lab_dataanalytics\"\n",
    "\n",
    "#### Obtener el Object ID de cada usuario\n",
    "- az ad user show --id jpmiranda@imsabogado.com --query id -o tsv\n",
    "- az ad user show --id crueda@imsabogado.com --query id -o tsv\n",
    "- az ad user show --id apino@rpsprocessing.com --query id -o tsv\n",
    "\n",
    "#### agregar miembros al grupo\n",
    "- az ad group member add --group \"Lab_DataAnalytics\" --member-id a6ae23c8-6387-47ee-ba58-ef448b269ee6\n",
    "\n",
    "\n",
    "#### listar miembros del grupo\n",
    "az ad group member list \\\n",
    "  --group \"Lab_DataAnalytics\" \\\n",
    "  --output table"
   ]
  },
  {
   "cell_type": "markdown",
   "id": "a0272ee4",
   "metadata": {},
   "source": [
    "#### Dar acceso al Key Vault usando RBAC\n",
    "Dar al grupo Lab_DataAnalytics el rol Key Vault Secrets User\n",
    "\n",
    "#### obtener el Object ID del grupo\n",
    "az ad group show --group \"Lab_DataAnalytics\" --query id -o tsv\n",
    "7eedd430-6e28-49f8-8a75-4636731fc311\n",
    "\n",
    "#### asignar rol por Object ID\n",
    "az role assignment create \\\n",
    "  --assignee <group-object-id> \\\n",
    "  --role \"Key Vault Secrets User\" \\\n",
    "  --scope $(az keyvault show --name kv-datalab2025 --query id -o tsv)"
   ]
  },
  {
   "cell_type": "markdown",
   "id": "c8519e09",
   "metadata": {},
   "source": [
    "#### Desplegar una VM en la VNet y habilitar Managed Identity\n",
    "\n",
    "#### Crear VM (ejemplo Linux) en la subred subnet-app\n",
    "\n",
    "### maquina virtual vm-datalab-1\n",
    "\n",
    "- az vm create --resource-group rg-data-lab --name vm-datalab-1 --image Ubuntu2404 --size Standard_B1s --admin-username azureuser --generate-ssh-keys --vnet-name vnet-data-lab --subnet subnet-app\n",
    "\n",
    "### maquina virtual vm-datalab-2\n",
    "-  az vm create --resource-group rg-data-lab --name vm-datalab-2 --image Ubuntu2404 --size Standard_B1s --admin-username azureuser --generate-ssh-keys --vnet-name vnet-data-lab --subnet subnet-app\n",
    "\n",
    "\n",
    "#### ver detalles de una maquina virtual creada:\n",
    "- az vm show --resource-group rg-data-lab --name vm-datalab-1 --show-details --output table\n",
    "-  az vm list --show-details --output table\n",
    "\n",
    "#### apgar la maquina virtual y liberar los recursos de coómputo\n",
    "- az vm deallocate --resource-group rg-data-lab --name vm-datalab-1\n",
    "### encender la maquina virtual\n",
    "- az vm start --resource-group rg-data-lab --name vm-datalab-1"
   ]
  },
  {
   "cell_type": "markdown",
   "id": "0216c22d",
   "metadata": {},
   "source": [
    "#### Implementación de Azure Bastion\n",
    "- Bastion es un servicio PaaS administrado por Azure\n",
    "- usar el explorador para conectarse a máquinas virtuales de la red virtual a través de Secure Shell (SSH) o protocolo de escritorio remoto (RDP) mediante sus direcciones IP privadas.\n",
    "\n",
    "#### Crear una subred de Bastion en la red virtual\n",
    "\n",
    "- Esta sub red es reservada exclusivamente para los recursos de Azure bastion y debe llamarse ¡¡¡AzureBastionSubnet!!!\n",
    "\n",
    "- az network vnet subnet create --name AzureBastionSubnet --resource-group rg-data-lab --vnet-name vnet-data-lab --address-prefixes 10.10.3.0/27\n",
    "\n",
    "#### crear un ip pública para Bastion\n",
    "Esta dirección se usa para conectarse al hos bastion desde internet. se debe crear en el mismo grupo de recursos.\n",
    "\n",
    "- az network public-ip create --resource-group rg-data-lab --name public-ip --sku Standard --location eastus --zone 1 2 3\n",
    "\n",
    "#### listar las ip publicas creadas\n",
    "\n",
    "-  az network public-ip list --resource-group rg-data-lab --output table\n",
    "\n",
    "#### crear el bastion\n",
    "\n",
    "- az network bastion create --name bastion-lab --public-ip-address public-ip --resource-group rg-data-lab --vnet-name vnet-data-lab --location eastus --sku Standard --enable-tunneling true \n",
    "\n",
    "#### listar bastiones creado\n",
    "az network bastion list \\\n",
    "  --resource-group rg-data-lab \\\n",
    "  --output table"
   ]
  },
  {
   "cell_type": "markdown",
   "id": "f3f30a86",
   "metadata": {},
   "source": [
    "#### Análsis de Maquinas virtuales \n",
    "\n",
    "- az vim list --show-details --output table "
   ]
  },
  {
   "cell_type": "markdown",
   "id": "bce9445e",
   "metadata": {},
   "source": [
    "#### lsitas las maquinas virtuales y ver su ID \n",
    "se utiliza para realizar la conexión\n",
    "\n",
    "az vm show --resource-group rg-data-lab --name vm-datalab-1 --query \"id\" --output tsv\n",
    "\n",
    "/subscriptions/db059ab1-ccee-408a-9ad2-8e1d6fddddf4/resourceGroups/rg-data-lab/providers/Microsoft.Compute/virtualMachines/vm-datalab-1\n",
    "\n",
    "#### conectarse a la maquina virtual\n",
    "az network bastion ssh `\n",
    "  --name bastion-lab `\n",
    "  --resource-group rg-data-lab `\n",
    "  --target-resource-id $(az vm show -g rg-data-lab -n vm-datalab-1 --query id -o tsv) `\n",
    "  --auth-type ssh-key `\n",
    "  --username azureuser `\n",
    "  --ssh-key $env:USERPROFILE\\.ssh\\id_rsa\n",
    " #### se requiere la extensión de ssh instalada en cli \n",
    " az extensión add -n ssh "
   ]
  },
  {
   "cell_type": "markdown",
   "id": "052e05a0",
   "metadata": {},
   "source": [
    "#### RESUMEN DE GRUPO DE RECURSOS\n",
    "\n",
    "#### grupo de recursos\n",
    "- az group list \n",
    "rg-data-lab       eastus      Succeeded\n",
    "\n",
    "#### vnet \n",
    "- az network vnet list --resource-group rg-data-lab --output table\n",
    "\n",
    "vnet-data-lab  rg-data-lab      eastus      2             10.10.0.0/16                False\n",
    "\n",
    "#### subnet\n",
    "-  az network vnet subnet list --resource-group rg-data-lab --vnet-name vnet-data-lab --output table\n",
    "\n",
    "10.10.3.0/27     AzureBastionSubnet  Disabled                          Enabled                              Succeeded            rg-data-lab\n",
    "\n",
    "10.10.1.0/24     subnet-app          Disabled                          Enabled                              Succeeded            rg-data-lab\n",
    "\n",
    "#### nsg\n",
    "-  az network nsg show --resource-group rg-data-lab --name nsg-app --output table\n",
    "\n",
    "eastus      nsg-app  Succeeded            rg-data-lab      2e58ebc6-7cdd-4f17-83de-ebcbf32f8b47\n"
   ]
  },
  {
   "cell_type": "markdown",
   "id": "9027bf85",
   "metadata": {},
   "source": [
    "HACER UNA TABLA hubspot\n",
    " record ID  contacto y negocios llave única\n",
    " asosiation ID\n",
    "\n",
    "\n"
   ]
  },
  {
   "cell_type": "markdown",
   "id": "873bceea",
   "metadata": {},
   "source": []
  }
 ],
 "metadata": {
  "language_info": {
   "name": "python"
  }
 },
 "nbformat": 4,
 "nbformat_minor": 5
}
