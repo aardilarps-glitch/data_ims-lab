{
 "cells": [
  {
   "cell_type": "markdown",
   "id": "c306ff5c",
   "metadata": {},
   "source": [
    "DB_RAW\n",
    " └─ SCHEMA_RAW\n",
    "      ├─ CUSTOMERS_RAW\n",
    "      └─ ORDERS_RAW\n",
    "\n",
    "DB_STAGING\n",
    " └─ SCHEMA_STAGING\n",
    "      ├─ CUSTOMERS_STAGE\n",
    "      └─ ORDERS_STAGE\n",
    "\n",
    "DB_ANALYTICS\n",
    " └─ SCHEMA_ANALYTICS\n",
    "      ├─ CUSTOMERS\n",
    "      └─ ORDERS"
   ]
  },
  {
   "cell_type": "markdown",
   "id": "66f52e99",
   "metadata": {},
   "source": [
    "#### Instalar SnowSQL en la VM\n",
    "\n",
    "- wget https://sfc-repo.snowflakecomputing.com/snowsql/bootstrap/1.2/linux_x86_64/snowsql-1.2.24-linux_x86_64.bash\n",
    "\n",
    "- bash snowsql-1.2.24-linux_x86_64.bash"
   ]
  },
  {
   "cell_type": "markdown",
   "id": "bdcc62c1",
   "metadata": {},
   "source": [
    "#### Crear warehouse de laboratorio\n",
    "\n",
    "CREATE WAREHOUSE WH_LAB\n",
    "  WAREHOUSE_SIZE = 'XSMALL'\n",
    "  AUTO_SUSPEND = 60\n",
    "  AUTO_RESUME = TRUE\n",
    "  INITIALLY_SUSPENDED = TRUE;\n",
    "\n",
    "#### crear databases\n",
    "CREATE DATABASE DB_RAW;\n",
    "CREATE DATABASE DB_STAGING;\n",
    "CREATE DATABASE DB_ANALYTICS;\n",
    "\n",
    "#### Crear esquemas\n",
    "CREATE SCHEMA DB_RAW.SCHEMA_RAW;\n",
    "CREATE SCHEMA DB_STAGING.SCHEMA_STAGING;\n",
    "CREATE SCHEMA DB_ANALYTICS.SCHEMA_ANALYTICS;\n",
    "\n",
    "#### ver esquemas creados:\n",
    "USE SCHEMA DB_ANALYTICS.SCHEMA_ANALYTICS;"
   ]
  },
  {
   "cell_type": "markdown",
   "id": "0a6acf90",
   "metadata": {},
   "source": [
    "### Crear el Rol de analista\n",
    "CREATE ROLE ANALYST;\n",
    "GRANT USAGE ON DATABASE DB_ANALYTICS TO ANALYST;\n",
    "GRANT USAGE ON SCHEMA DB_ANALYTICS.SCHEMA_ANALYTICS TO ANALYST;\n",
    "GRANT SELECT ON ALL TABLES IN SCHEMA DB_ANALYTICS.SCHEMA_ANALYTICS TO ANALYST;"
   ]
  },
  {
   "cell_type": "markdown",
   "id": "e2be9dd6",
   "metadata": {},
   "source": [
    "-- Permitir uso de la base de datos\n",
    "GRANT USAGE ON DATABASE DB_RAW TO ROLE RAW_LAB;\n",
    "\n",
    "-- Permitir uso del esquema\n",
    "GRANT USAGE ON SCHEMA DB_RAW.SCHEMA_RAW TO ROLE RAW_LAB;\n",
    "\n",
    "-- Permitir trabajar con todas las tablas actuales del esquema\n",
    "GRANT SELECT, INSERT, UPDATE, DELETE ON ALL TABLES IN SCHEMA DB_RAW.SCHEMA_RAW TO ROLE RAW_LAB;\n",
    "\n",
    "-- Opcional: para que también aplique a futuras tablas\n",
    "GRANT SELECT, INSERT, UPDATE, DELETE ON FUTURE TABLES IN SCHEMA DB_RAW.SCHEMA_RAW TO ROLE RAW_LAB;\n"
   ]
  },
  {
   "cell_type": "markdown",
   "id": "de6a9677",
   "metadata": {},
   "source": [
    "#### ver los permisos de de un rol\n",
    "SHOW GRANTS TO ROLE  RAW_LAB;\n",
    "SHOW GRANTS TO ROLE ANALYST;\n",
    "\n",
    "#### asignar permisos a un rol\n",
    "GRANT SELECT ON ALL TABLES IN SCHEMA DB_ANALYTICS.SCHEMA_ANALYTICS TO ROLE ANALYST;\n",
    "\n",
    "GRANT SELECT ON FUTURE TABLES IN SCHEMA DB_ANALYTICS.SCHEMA_ANALYTICS TO ROLE ANALYST;\n",
    "\n",
    "GRANT USAGE ON WAREHOUSE WH_LAB TO ROLE ANALYST;"
   ]
  },
  {
   "cell_type": "markdown",
   "id": "fa7b8015",
   "metadata": {},
   "source": [
    "### Crear ususarios y roles analytics\n",
    "CREATE USER JuanMiranda\n",
    "    PASSWORD = 'contraseñajuan'\n",
    "    DEFAULT_ROLE = ANALYST\n",
    "    MUST_CHANGE_PASSWORD = TRUE\n",
    "    DEFAULT_WAREHOUSE = WH_LAB\n",
    "    DEFAULT_NAMESPACE = DB_ANALYTICS.SCHEMA_ANALYTICS;\n",
    "\n",
    "\n",
    "\n",
    "GRANT ROLE ANALYTICS TO USER JuanMiranda;\n",
    "\n",
    "\n",
    "\n"
   ]
  },
  {
   "cell_type": "markdown",
   "id": "2fee23ee",
   "metadata": {},
   "source": [
    "#### crear una table de pruebas \n",
    "CREATE OR REPLACE TABLE contactos_prueba (\n",
    "    id INT AUTOINCREMENT PRIMARY KEY,\n",
    "    first_name STRING,\n",
    "    last_name STRING,\n",
    "    email STRING,\n",
    "    phone STRING,\n",
    "    country STRING,\n",
    "    fecha_creacion TIMESTAMP_NTZ DEFAULT CURRENT_TIMESTAMP\n",
    ");"
   ]
  },
  {
   "cell_type": "markdown",
   "id": "6f0b1ff5",
   "metadata": {},
   "source": [
    "#### maquina virtual para pruebas de tráfico\n",
    "az vm create \\\n",
    "  --resource-group rg-data-lab \\\n",
    "  --name vm-datalab-b2ms \\\n",
    "  --image Ubuntu2404 \\\n",
    "  --size Standard_B2ms \\\n",
    "  --vnet-name vnet-data-lab \\\n",
    "  --subnet subnet-app \\\n",
    "  --admin-username labuser \\\n",
    "  --generate-ssh-keys \\\n",
    "  --assign-identity  \\\n",
    "  --storage-sku StandardSSD_LRS \\\n",
    "\n",
    "#### conectarse a la maquina virtual\n",
    "\n",
    "  \n",
    "az network bastion ssh --name bastion-lab --resource-group rg-data-lab --target-resource-id $(az vm show -g rg-data-lab -n vm-datalab-2 --query id -o tsv) --auth-type ssh-key --username labuser --ssh-key \"C:\\Users\\ANDRESFELIPEARDILALO\\.ssh\\id_rsa\"\n",
    "\n",
    "#### E comando para redimensionar la maquina virtual si llega a ser necesario\n",
    "\n",
    "\n",
    "#### debe estar deallocated \n",
    "az vm deallocate --resource-group rg-data-lab --name vm-datalab-2\n",
    "\n",
    "az vm resize \\\n",
    "  --resource-group rg-data-lab \\\n",
    "  --name vm-datalab-2 \\\n",
    "  --size Standard_D2s_v3\n"
   ]
  },
  {
   "cell_type": "markdown",
   "id": "ed4322e1",
   "metadata": {},
   "source": []
  },
  {
   "cell_type": "markdown",
   "id": "eda10436",
   "metadata": {},
   "source": [
    "#### CONFIGURAR EL GRUPO DE RECURSOS (VNet, Key Vault, Entra ID, NSG, VM)\n",
    "\n"
   ]
  },
  {
   "cell_type": "markdown",
   "id": "c2c1f8d6",
   "metadata": {},
   "source": [
    "#### consumo por fechas de azure\n",
    "- az account list --output table\n",
    "\n",
    "\n",
    "az account set --subscription \"<SUBSCRIPTION_ID>\"\n",
    "\n",
    "az consumption usage list --subscription db059ab1-ccee-408a-9ad2-8e1d6fddddf4 --start-date 2025-09-29 --end-date 2025-10-03 --output table\n",
    "\n",
    "az consumption usage list \\\n",
    "  --subscription <SUBSCRIPTION_ID> \\\n",
    "  --start-date 2025-09-01 \\\n",
    "  --end-date 2025-09-29 \\\n",
    "  -o table"
   ]
  },
  {
   "cell_type": "markdown",
   "id": "fa3a64b9",
   "metadata": {},
   "source": [
    "#### GESTIÓN DE RECURSOS PARA ACESSO LA MAUINA VIRTUAL\n",
    "Usuarios pertenecientes al grupo Entra ID \"Lab_DataAnalytics\" se conectan mediante Azure Bastion usando sus credeneciales(correo y contraseña) a la maquina virtual vm-datalab-2\n",
    "\n",
    "#### se requiere la extensión AADSSHLoginForLinux instalada en la maquina virtual\n",
    "az vm extension set \\\n",
    "  --publisher Microsoft.Azure.ActiveDirectory \\\n",
    "  --name AADSSHLoginForLinux \\\n",
    "  --resource-group rg-data-lab \\\n",
    "  --vm-name vm-datalab-2\n",
    "\n",
    "#### obtener ID del grupo \n",
    "- az ad group show --group Lab_DataAnalytics --query id -o tsv\n",
    "7eedd430-6e28-49f8-8a75-4636731fc311\n",
    "\n",
    "#### obtener los miembros del grupo Entra ID\n",
    "- az ad group member list --group Lab_DataAnalytics --query \"[].{name:displayName, userPrincipalName:userPrincipalName}\" -o table\n",
    "\n",
    "- az ad group show --group Lab_DataAnalytics --query \"id\" -o tsv\n",
    "7eedd430-6e28-49f8-8a75-4636731fc311\n",
    "\n",
    "#### ver permisos que tiene el grupo\n",
    "- az role assignment list --assignee 7eedd430-6e28-49f8-8a75-4636731fc311 --scope $(az vm show -g rg-data-lab -n vm-datalab-2 --query id -o tsv) -o table\n",
    "\n",
    "#### asignar el rol para entrar a la maquina virtual\n",
    "\n",
    "- az role assignment create --assignee 7eedd430-6e28-49f8-8a75-4636731fc311 --role \"Virtual Machine User Login\" --scope $(az vm show --resource-group rg-data-lab --name vm-datalab-2 --query id -o tsv)\n",
    "\n",
    "#### se requiere adicionar el rol Reader para que pueda usar la maquina virtual \n",
    "- az role assignment create --assignee 7eedd430-6e28-49f8-8a75-4636731fc311 --role \"Reader\" --scope /subscriptions/db059ab1-ccee-408a-9ad2-8e1d6fddddf4/resourceGroups/rg-data-lab"
   ]
  },
  {
   "cell_type": "markdown",
   "id": "b5c2e0b5",
   "metadata": {},
   "source": [
    "#### camando de acceso a la maquina virtual desde azure cli\n",
    "az network bastion ssh  --name bastion-lab --resource-group rg-data-lab  --target-resource-id $(az vm show -g rg-data-lab -n vm-datalab-2 --query id -o tsv) --auth-type AAD\n",
    "\n"
   ]
  },
  {
   "cell_type": "markdown",
   "id": "1fa07a8c",
   "metadata": {},
   "source": [
    "#### INTEGRACIÓN SNOWFLAKE + KEY VAULT \n",
    "\n",
    "#### Asignar permisos de key vault al grupo de Lab_DataAnalytics\n",
    "-- los usuarios se conectan a la VM, necesitan leer secretos desde Key Vault (credenciales de Snowflake, cuentas, tokens, etc.).\n",
    "\n",
    "requiere el objectId\n",
    "\n",
    "-  az role assignment create --assignee 7eedd430-6e28-49f8-8a75-4636731fc311 --role \"Key Vault Secrets User\" --scope $(az keyvault show --name kv-datalab2025 --resource-group rg-data-lab --query id -o tsv)\n",
    "\n"
   ]
  },
  {
   "cell_type": "markdown",
   "id": "da2d42de",
   "metadata": {},
   "source": [
    "#### Configurar Network Policies en Snowflake\n",
    "- El objetivo es controlar desde dónde se puede conectar a Snowflake, asegurando que solo la VM o la red corporativa tenga acceso\n",
    "\n",
    "- listar \n",
    "- SHOW NETWORK POLICIES;\n",
    "- DESCRIBE NETWORK POLICY DATA_GROUP_1;\n",
    "\n",
    "#### Crear una política de red en Snowflake que permita solo rangos IP específicos (por ejemplo, de la VM o VPN corporativa)\n",
    "\n",
    "curl -s ifconfig.me\n",
    "172.191.113.147 (maquina virtual vm-data-lab-2)\n",
    "\n",
    "IP de mi equipo propia de admin de cuenta\n",
    "'177.253.98.42',\n",
    "\n",
    "(Daniel)\n",
    "177.253.153.82\n",
    "\n",
    "\n",
    "(Juan)\n",
    "177.253.153.82\n",
    "\n",
    "IP del servicio de autenticaicón de snowflake\n",
    "'34.120.55.22',\n",
    "'34.121.90.77',\n",
    "'35.239.180.99',\n",
    "\n",
    "IP conectores de power bi y servicios de microsoft\n",
    "44.203.133.160/28, 3.145.219.176/28, 35.89.45.128/28\n",
    "\n",
    "\n",
    "\n",
    "#### Network Policy\n",
    "CREATE NETWORK POLICY LAB_DATA\n",
    "    ALLOWED_IP_LIST = ('172.191.113.147',\n",
    "                       '177.253.98.42',\n",
    "                       '192.168.0.119',\n",
    "                       '34.120.55.22',\n",
    "                       '34.121.90.77',\n",
    "                       '35.239.180.99',\n",
    "                       '44.203.133.160/28',\n",
    "                       '3.145.219.176/28',\n",
    "                       '35.89.45.128/28'\n",
    "    )\n",
    "    BLOCKED_IP_LIST = ('0.0.0.0/0');\n",
    "\n",
    "#### actualizar ip\n",
    "ALTER NETWORK POLICY LAB_DATA\n",
    "  SET ALLOWED_IP_LIST = ()\n",
    "\n",
    "#### Listar las IP: \n",
    "DESC NETWORK POLICY LAB_DATA;\n"
   ]
  },
  {
   "cell_type": "markdown",
   "id": "edd6b9e2",
   "metadata": {},
   "source": [
    "#### Asociar la política de red a los usuarios de Snowflake o roles específicos\n",
    "\n",
    "ALTER USER afelipe2025 SET NETWORK_POLICY = lab_vm_only;\n",
    "ALTER USER CARLOSRUEDA SET NETWORK_POLICY =LAB_DATA;\n",
    "ALTER USER JUANMIRANDA SET NETWORK_POLICY =LAB_DATA;\n",
    "\n",
    "\n",
    "ALTER ROLE lab_data_analytics SET NETWORK_POLICY = lab_vm_only;"
   ]
  }
 ],
 "metadata": {
  "language_info": {
   "name": "python"
  }
 },
 "nbformat": 4,
 "nbformat_minor": 5
}
