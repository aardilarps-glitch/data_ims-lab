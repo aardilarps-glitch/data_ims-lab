{
 "cells": [
  {
   "cell_type": "markdown",
   "id": "c306ff5c",
   "metadata": {},
   "source": [
    "DB_RAW\n",
    " └─ SCHEMA_RAW\n",
    "      ├─ CUSTOMERS_RAW\n",
    "      └─ ORDERS_RAW\n",
    "\n",
    "DB_STAGING\n",
    " └─ SCHEMA_STAGING\n",
    "      ├─ CUSTOMERS_STAGE\n",
    "      └─ ORDERS_STAGE\n",
    "\n",
    "DB_ANALYTICS\n",
    " └─ SCHEMA_ANALYTICS\n",
    "      ├─ CUSTOMERS\n",
    "      └─ ORDERS"
   ]
  },
  {
   "cell_type": "markdown",
   "id": "66f52e99",
   "metadata": {},
   "source": [
    "#### Instalar SnowSQL en la VM\n",
    "\n",
    "- wget https://sfc-repo.snowflakecomputing.com/snowsql/bootstrap/1.2/linux_x86_64/snowsql-1.2.24-linux_x86_64.bash\n",
    "\n",
    "- bash snowsql-1.2.24-linux_x86_64.bash"
   ]
  },
  {
   "cell_type": "markdown",
   "id": "bdcc62c1",
   "metadata": {},
   "source": [
    "#### Crear warehouse de laboratorio\n",
    "\n",
    "CREATE WAREHOUSE WH_LAB\n",
    "  WAREHOUSE_SIZE = 'XSMALL'\n",
    "  AUTO_SUSPEND = 60\n",
    "  AUTO_RESUME = TRUE\n",
    "  INITIALLY_SUSPENDED = TRUE;\n",
    "\n",
    "#### crear databases\n",
    "CREATE DATABASE DB_RAW;\n",
    "CREATE DATABASE DB_STAGING;\n",
    "CREATE DATABASE DB_ANALYTICS;\n",
    "\n",
    "#### Crear esquemas\n",
    "CREATE SCHEMA DB_RAW.SCHEMA_RAW;\n",
    "CREATE SCHEMA DB_STAGING.SCHEMA_STAGING;\n",
    "CREATE SCHEMA DB_ANALYTICS.SCHEMA_ANALYTICS;"
   ]
  },
  {
   "cell_type": "markdown",
   "id": "0a6acf90",
   "metadata": {},
   "source": [
    "### Crear el Rol de analista\n",
    "CREATE ROLE ANALYST;\n",
    "GRANT USAGE ON DATABASE DB_ANALYTICS TO ANALYST;\n",
    "GRANT USAGE ON SCHEMA DB_ANALYTICS.SCHEMA_ANALYTICS TO ANALYST;\n",
    "GRANT SELECT ON ALL TABLES IN SCHEMA DB_ANALYTICS.SCHEMA_ANALYTICS TO ANALYST;"
   ]
  }
 ],
 "metadata": {
  "language_info": {
   "name": "python"
  }
 },
 "nbformat": 4,
 "nbformat_minor": 5
}
