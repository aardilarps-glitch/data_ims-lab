{
 "cells": [
  {
   "cell_type": "markdown",
   "id": "435a66b9",
   "metadata": {},
   "source": [
    "#### conexión entre fivetran y snowflake\n"
   ]
  }
 ],
 "metadata": {
  "language_info": {
   "name": "python"
  }
 },
 "nbformat": 4,
 "nbformat_minor": 5
}
